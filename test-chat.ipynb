{
 "cells": [
  {
   "cell_type": "code",
   "execution_count": 2,
   "metadata": {},
   "outputs": [
    {
     "name": "stdout",
     "output_type": "stream",
     "text": [
      "Available Server Tools: ['gmail_find_email', 'edit_actions', 'add_actions']\n",
      "Tool Used: gmail_find_email, Arguments: {'query': 'Meralco'}\n"
     ]
    },
    {
     "name": "stderr",
     "output_type": "stream",
     "text": [
      "Error in post_writer: \n"
     ]
    },
    {
     "data": {
      "text/markdown": [
       "The Meralco email begins with a welcoming message addressed to you, Stephen, informing you that your bill for April 2025 is available online. Here's a brief summary of the key points from the email:\n",
       "\n",
       "1. **Subject**: Meralco Bill for April 2025 for Customer Account Number (CAN) 1811346XXX.\n",
       "2. **Customer Account Number (CAN)**: 1811346XXX.\n",
       "3. **Billing Summary**: Provides the total amount due, due dates, and other relevant billing details.\n",
       "4. **Contact Information**: Offers ways to reach customer service for inquiries and assistance.\n",
       "5. **Unsubscribe Option**: Includes options to unsubscribe from future communications.\n",
       "\n",
       "The email expresses appreciation for your patronage and reminds you to review your bill online for a detailed breakdown. Please let me know if you need more specific details or if there are any other aspects of the email you'd like to know!"
      ],
      "text/plain": [
       "<IPython.core.display.Markdown object>"
      ]
     },
     "metadata": {},
     "output_type": "display_data"
    }
   ],
   "source": [
    "from chat import chat\n",
    "from IPython.display import display, Markdown\n",
    "\n",
    "user_input = 'What does the Meralco email say?'\n",
    "\n",
    "res = await chat(user_input)\n",
    "\n",
    "display(Markdown(res))"
   ]
  }
 ],
 "metadata": {
  "kernelspec": {
   "display_name": ".venv-mcp",
   "language": "python",
   "name": "python3"
  },
  "language_info": {
   "codemirror_mode": {
    "name": "ipython",
    "version": 3
   },
   "file_extension": ".py",
   "mimetype": "text/x-python",
   "name": "python",
   "nbconvert_exporter": "python",
   "pygments_lexer": "ipython3",
   "version": "3.10.12"
  }
 },
 "nbformat": 4,
 "nbformat_minor": 2
}
